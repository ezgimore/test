{
 "cells": [
  {
   "cell_type": "code",
   "execution_count": 22,
   "metadata": {},
   "outputs": [],
   "source": [
    "import keras\n",
    "from keras import layers\n",
    "import numpy as np\n",
    "import tensorflow as tf"
   ]
  },
  {
   "cell_type": "code",
   "execution_count": 112,
   "metadata": {},
   "outputs": [],
   "source": [
    "FINAL_NUM = 20\n",
    "FINAL_SIZE = 32\n",
    "BATCH_SIZE = 2\n",
    "IMG_SIZE = 640\n",
    "\n",
    "# offset constant for centery\n",
    "COL_IDX = np.array([i for i in range(FINAL_NUM)], dtype=np.float32)\n",
    "COL_IDX = np.tile(COL_IDX, (BATCH_SIZE, FINAL_NUM, 1)) * FINAL_SIZE\n",
    "\n",
    "# offset constant for centerx\n",
    "ROW_IDX = np.transpose(COL_IDX, axes=[0,2,1])\n",
    "\n",
    "# fill in all other indexes with 0\n",
    "ADD_CENTER = np.zeros(shape=(BATCH_SIZE, FINAL_NUM, FINAL_NUM, 5), dtype=np.float32)\n",
    "ADD_CENTER[:,:,:,1] = ROW_IDX\n",
    "ADD_CENTER[:,:,:,2] = COL_IDX\n",
    "\n",
    "# constant tensor to multiply with centerx/y coords\n",
    "MULT_CENTER = np.ones(shape=(BATCH_SIZE, FINAL_NUM, FINAL_NUM, 5), dtype=np.float32)\n",
    "MULT_CENTER[:,:,:,1:3] = FINAL_SIZE-1\n",
    "\n",
    "# constant tensor to div centery x/y coords\n",
    "DIV_CENTER = np.ones(shape=(BATCH_SIZE, FINAL_NUM, FINAL_NUM, 5), dtype=np.float32)\n",
    "DIV_CENTER[:,:,:,1:3] = IMG_SIZE\n",
    "\n",
    "ADD_CENTER = tf.convert_to_tensor(ADD_CENTER, dtype=tf.float32)\n",
    "MULT_CENTER = tf.convert_to_tensor(MULT_CENTER, dtype=tf.float32)\n",
    "DIV_CENTER = tf.convert_to_tensor(DIV_CENTER, dtype=tf.float32)"
   ]
  },
  {
   "cell_type": "code",
   "execution_count": 6,
   "metadata": {},
   "outputs": [],
   "source": [
    "inputs = keras.Input((20,20,1))\n",
    "outputs = layers.Conv2D(5, kernel_size=(1,1), strides=(1,1), activation='sigmoid')(inputs)\n",
    "model = keras.Model(inputs=inputs, outputs=outputs)"
   ]
  },
  {
   "cell_type": "code",
   "execution_count": 104,
   "metadata": {},
   "outputs": [],
   "source": [
    "CE = keras.losses.categorical_crossentropy\n",
    "\n",
    "def custom_loss(y_true, y_pred):\n",
    "\n",
    "    # categorical cross entropy using first index of all 20 predictions\n",
    "    y_true_conf = tf.reshape(y_pred[:,:,:,0], [-1, FINAL_NUM*FINAL_NUM])\n",
    "    y_pred_conf = tf.reshape(y_pred[:,:,:,0], [-1, FINAL_NUM*FINAL_NUM])\n",
    "    #id_accuracy = CE(y_true, y_pred)\n",
    "\n",
    "    # converting format from offset centerx/y -> centerx/y\n",
    "    y_pred = (y_pred * MULT_CENTER + ADD_CENTER) / DIV_CENTER\n",
    "    test = CE(y_true, y_pred)\n",
    "\n",
    "    return test"
   ]
  },
  {
   "cell_type": "code",
   "execution_count": 105,
   "metadata": {},
   "outputs": [],
   "source": [
    "model.compile(\n",
    "    loss=custom_loss,\n",
    "    optimizer=keras.optimizers.Adam()\n",
    ")"
   ]
  },
  {
   "cell_type": "code",
   "execution_count": 20,
   "metadata": {},
   "outputs": [],
   "source": [
    "x_train = np.random.rand(10, 20, 20)\n",
    "y_train = np.random.rand(10, 5)"
   ]
  },
  {
   "cell_type": "code",
   "execution_count": 92,
   "metadata": {},
   "outputs": [],
   "source": [
    "FINAL_NUM=5\n",
    "BATCH_SIZE=2\n",
    "FINAL_SIZE = 32\n",
    "\n",
    "# offset constant for centery\n",
    "COL_IDX = np.array([i for i in range(FINAL_NUM)], dtype=np.float32)\n",
    "COL_IDX = np.tile(COL_IDX, (BATCH_SIZE, FINAL_NUM, 1)) * FINAL_SIZE\n",
    "\n",
    "# offset constant for centerx\n",
    "ROW_IDX = np.transpose(COL_IDX, axes=[0,2,1])\n",
    "\n",
    "# fill in all other indexes with 0\n",
    "ADD_CENTER = np.zeros(shape=(BATCH_SIZE, FINAL_NUM, FINAL_NUM, 5))\n",
    "ADD_CENTER[:,:,:,1] = ROW_IDX\n",
    "ADD_CENTER[:,:,:,2] = COL_IDX"
   ]
  },
  {
   "cell_type": "markdown",
   "metadata": {},
   "source": [
    "# TEST"
   ]
  },
  {
   "cell_type": "code",
   "execution_count": 106,
   "metadata": {},
   "outputs": [
    {
     "name": "stdout",
     "output_type": "stream",
     "text": [
      "1/1 [==============================] - 0s 99ms/step\n"
     ]
    }
   ],
   "source": [
    "y_pred = model.predict(x_train)"
   ]
  },
  {
   "cell_type": "code",
   "execution_count": null,
   "metadata": {},
   "outputs": [],
   "source": [
    "model.fit(x_train, y_train, batch_size=2, epochs=2)"
   ]
  }
 ],
 "metadata": {
  "kernelspec": {
   "display_name": "base",
   "language": "python",
   "name": "python3"
  },
  "language_info": {
   "codemirror_mode": {
    "name": "ipython",
    "version": 3
   },
   "file_extension": ".py",
   "mimetype": "text/x-python",
   "name": "python",
   "nbconvert_exporter": "python",
   "pygments_lexer": "ipython3",
   "version": "3.9.12"
  }
 },
 "nbformat": 4,
 "nbformat_minor": 2
}
